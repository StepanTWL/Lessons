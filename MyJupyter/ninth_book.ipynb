{
 "cells": [
  {
   "cell_type": "code",
   "execution_count": 2,
   "metadata": {},
   "outputs": [],
   "source": [
    "import pandas as pd\n",
    "from random import randint\n",
    "from faker import Faker\n",
    "fake = Faker()"
   ]
  },
  {
   "cell_type": "code",
   "execution_count": 14,
   "metadata": {},
   "outputs": [],
   "source": [
    "numbers = [fake.date() for i in range(15)]\n",
    "names = [fake.name() for i in range(15)]"
   ]
  },
  {
   "cell_type": "code",
   "execution_count": 15,
   "metadata": {},
   "outputs": [],
   "source": [
    "a = pd.Series(numbers)"
   ]
  },
  {
   "cell_type": "code",
   "execution_count": 16,
   "metadata": {},
   "outputs": [
    {
     "data": {
      "text/plain": [
       "13    1971-02-27\n",
       "10    1976-02-03\n",
       "2     1976-06-19\n",
       "7     1981-08-09\n",
       "1     1988-07-09\n",
       "5     1988-08-16\n",
       "6     1989-01-17\n",
       "0     1998-12-10\n",
       "4     2005-03-07\n",
       "9     2005-11-26\n",
       "8     2006-06-13\n",
       "3     2006-08-04\n",
       "14    2014-09-18\n",
       "12    2014-11-21\n",
       "11    2017-03-16\n",
       "dtype: object"
      ]
     },
     "execution_count": 16,
     "metadata": {},
     "output_type": "execute_result"
    }
   ],
   "source": [
    "a.sort_values(inplace=True)\n",
    "a"
   ]
  },
  {
   "cell_type": "code",
   "execution_count": 17,
   "metadata": {},
   "outputs": [
    {
     "data": {
      "text/plain": [
       "0     1998-12-10\n",
       "1     1988-07-09\n",
       "2     1976-06-19\n",
       "3     2006-08-04\n",
       "4     2005-03-07\n",
       "5     1988-08-16\n",
       "6     1989-01-17\n",
       "7     1981-08-09\n",
       "8     2006-06-13\n",
       "9     2005-11-26\n",
       "10    1976-02-03\n",
       "11    2017-03-16\n",
       "12    2014-11-21\n",
       "13    1971-02-27\n",
       "14    2014-09-18\n",
       "dtype: object"
      ]
     },
     "execution_count": 17,
     "metadata": {},
     "output_type": "execute_result"
    }
   ],
   "source": [
    "a.sort_index(inplace=True)\n",
    "a"
   ]
  },
  {
   "cell_type": "code",
   "execution_count": 18,
   "metadata": {},
   "outputs": [
    {
     "data": {
      "text/plain": [
       "Roger West MD         1998-12-10\n",
       "Jeremy Mathews        1988-07-09\n",
       "Antonio Watson        1976-06-19\n",
       "Valerie Cox           2006-08-04\n",
       "Timothy Garcia        2005-03-07\n",
       "Kimberly Schneider    1988-08-16\n",
       "Oscar Rush            1989-01-17\n",
       "Tara Hays MD          1981-08-09\n",
       "John Jackson          2006-06-13\n",
       "Eric Hill             2005-11-26\n",
       "Michael Watson MD     1976-02-03\n",
       "Heather Mclaughlin    2017-03-16\n",
       "Sean Vasquez          2014-11-21\n",
       "Phillip Parker        1971-02-27\n",
       "Natalie Smith         2014-09-18\n",
       "dtype: object"
      ]
     },
     "execution_count": 18,
     "metadata": {},
     "output_type": "execute_result"
    }
   ],
   "source": [
    "b = pd.Series(numbers,index=names)\n",
    "b"
   ]
  },
  {
   "cell_type": "code",
   "execution_count": 19,
   "metadata": {},
   "outputs": [
    {
     "data": {
      "text/plain": [
       "Antonio Watson        1976-06-19\n",
       "Eric Hill             2005-11-26\n",
       "Heather Mclaughlin    2017-03-16\n",
       "Jeremy Mathews        1988-07-09\n",
       "John Jackson          2006-06-13\n",
       "Kimberly Schneider    1988-08-16\n",
       "Michael Watson MD     1976-02-03\n",
       "Natalie Smith         2014-09-18\n",
       "Oscar Rush            1989-01-17\n",
       "Phillip Parker        1971-02-27\n",
       "Roger West MD         1998-12-10\n",
       "Sean Vasquez          2014-11-21\n",
       "Tara Hays MD          1981-08-09\n",
       "Timothy Garcia        2005-03-07\n",
       "Valerie Cox           2006-08-04\n",
       "dtype: object"
      ]
     },
     "execution_count": 19,
     "metadata": {},
     "output_type": "execute_result"
    }
   ],
   "source": [
    "b.sort_index()"
   ]
  },
  {
   "cell_type": "code",
   "execution_count": 20,
   "metadata": {},
   "outputs": [
    {
     "data": {
      "text/plain": [
       "Phillip Parker        1971-02-27\n",
       "Michael Watson MD     1976-02-03\n",
       "Antonio Watson        1976-06-19\n",
       "Tara Hays MD          1981-08-09\n",
       "Jeremy Mathews        1988-07-09\n",
       "Kimberly Schneider    1988-08-16\n",
       "Oscar Rush            1989-01-17\n",
       "Roger West MD         1998-12-10\n",
       "Timothy Garcia        2005-03-07\n",
       "Eric Hill             2005-11-26\n",
       "John Jackson          2006-06-13\n",
       "Valerie Cox           2006-08-04\n",
       "Natalie Smith         2014-09-18\n",
       "Sean Vasquez          2014-11-21\n",
       "Heather Mclaughlin    2017-03-16\n",
       "dtype: object"
      ]
     },
     "execution_count": 20,
     "metadata": {},
     "output_type": "execute_result"
    }
   ],
   "source": [
    "b.sort_values()"
   ]
  },
  {
   "cell_type": "code",
   "execution_count": null,
   "metadata": {},
   "outputs": [],
   "source": []
  },
  {
   "cell_type": "code",
   "execution_count": null,
   "metadata": {},
   "outputs": [],
   "source": []
  }
 ],
 "metadata": {
  "kernelspec": {
   "display_name": "Python 3",
   "language": "python",
   "name": "python3"
  },
  "language_info": {
   "codemirror_mode": {
    "name": "ipython",
    "version": 3
   },
   "file_extension": ".py",
   "mimetype": "text/x-python",
   "name": "python",
   "nbconvert_exporter": "python",
   "pygments_lexer": "ipython3",
   "version": "3.8.3"
  }
 },
 "nbformat": 4,
 "nbformat_minor": 4
}
