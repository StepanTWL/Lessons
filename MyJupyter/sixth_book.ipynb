{
 "cells": [
  {
   "cell_type": "code",
   "execution_count": 12,
   "metadata": {},
   "outputs": [],
   "source": [
    "import pandas as pd\n",
    "from random import randint, shuffle\n",
    "from string import ascii_lowercase"
   ]
  },
  {
   "cell_type": "code",
   "execution_count": 2,
   "metadata": {},
   "outputs": [],
   "source": [
    "numbers = [randint(-50,50) for i in range(26)]"
   ]
  },
  {
   "cell_type": "code",
   "execution_count": 21,
   "metadata": {},
   "outputs": [],
   "source": [
    "s = pd.Series(numbers)\n",
    "letters = pd.Series(numbers, index=ind)"
   ]
  },
  {
   "cell_type": "code",
   "execution_count": 10,
   "metadata": {},
   "outputs": [
    {
     "data": {
      "text/plain": [
       "10    22\n",
       "9    -38\n",
       "8    -20\n",
       "7     42\n",
       "6    -41\n",
       "5    -32\n",
       "4    -34\n",
       "3    -23\n",
       "dtype: int64"
      ]
     },
     "execution_count": 10,
     "metadata": {},
     "output_type": "execute_result"
    }
   ],
   "source": [
    "s[10:2:-1]"
   ]
  },
  {
   "cell_type": "code",
   "execution_count": 5,
   "metadata": {
    "scrolled": true
   },
   "outputs": [
    {
     "data": {
      "text/plain": [
       "0    -34\n",
       "1    -10\n",
       "2     -8\n",
       "3    -23\n",
       "4    -34\n",
       "5    -32\n",
       "6    -41\n",
       "7     42\n",
       "8    -20\n",
       "9    -38\n",
       "10    22\n",
       "11   -34\n",
       "12   -32\n",
       "13    -5\n",
       "14   -42\n",
       "15     6\n",
       "16   -37\n",
       "17    32\n",
       "18    40\n",
       "19     2\n",
       "20     7\n",
       "21    42\n",
       "22   -48\n",
       "23   -38\n",
       "24    20\n",
       "25   -34\n",
       "dtype: int64"
      ]
     },
     "execution_count": 5,
     "metadata": {},
     "output_type": "execute_result"
    }
   ],
   "source": [
    "s"
   ]
  },
  {
   "cell_type": "code",
   "execution_count": null,
   "metadata": {},
   "outputs": [],
   "source": []
  },
  {
   "cell_type": "code",
   "execution_count": 13,
   "metadata": {},
   "outputs": [],
   "source": [
    "ind = list(ascii_lowercase)"
   ]
  },
  {
   "cell_type": "code",
   "execution_count": 16,
   "metadata": {},
   "outputs": [
    {
     "data": {
      "text/plain": [
       "a   -34\n",
       "b   -10\n",
       "c    -8\n",
       "d   -23\n",
       "e   -34\n",
       "f   -32\n",
       "g   -41\n",
       "h    42\n",
       "i   -20\n",
       "j   -38\n",
       "k    22\n",
       "l   -34\n",
       "m   -32\n",
       "n    -5\n",
       "o   -42\n",
       "p     6\n",
       "q   -37\n",
       "r    32\n",
       "s    40\n",
       "t     2\n",
       "u     7\n",
       "v    42\n",
       "w   -48\n",
       "x   -38\n",
       "y    20\n",
       "z   -34\n",
       "dtype: int64"
      ]
     },
     "execution_count": 16,
     "metadata": {},
     "output_type": "execute_result"
    }
   ],
   "source": [
    "letters"
   ]
  },
  {
   "cell_type": "code",
   "execution_count": 17,
   "metadata": {},
   "outputs": [
    {
     "data": {
      "text/plain": [
       "a   -34\n",
       "b   -10\n",
       "c    -8\n",
       "d   -23\n",
       "e   -34\n",
       "f   -32\n",
       "dtype: int64"
      ]
     },
     "execution_count": 17,
     "metadata": {},
     "output_type": "execute_result"
    }
   ],
   "source": [
    "letters['a':'f']"
   ]
  },
  {
   "cell_type": "code",
   "execution_count": 18,
   "metadata": {},
   "outputs": [],
   "source": [
    "shuffle(ind)"
   ]
  },
  {
   "cell_type": "code",
   "execution_count": 19,
   "metadata": {},
   "outputs": [
    {
     "data": {
      "text/plain": [
       "['m',\n",
       " 'o',\n",
       " 'h',\n",
       " 'r',\n",
       " 'x',\n",
       " 'v',\n",
       " 't',\n",
       " 'd',\n",
       " 'l',\n",
       " 'f',\n",
       " 'n',\n",
       " 'p',\n",
       " 'e',\n",
       " 'i',\n",
       " 'y',\n",
       " 'q',\n",
       " 'u',\n",
       " 'g',\n",
       " 'z',\n",
       " 'c',\n",
       " 'b',\n",
       " 'a',\n",
       " 'w',\n",
       " 's',\n",
       " 'k',\n",
       " 'j']"
      ]
     },
     "execution_count": 19,
     "metadata": {},
     "output_type": "execute_result"
    }
   ],
   "source": [
    "ind"
   ]
  },
  {
   "cell_type": "code",
   "execution_count": 22,
   "metadata": {},
   "outputs": [
    {
     "data": {
      "text/plain": [
       "m   -34\n",
       "o   -10\n",
       "h    -8\n",
       "r   -23\n",
       "x   -34\n",
       "v   -32\n",
       "t   -41\n",
       "d    42\n",
       "l   -20\n",
       "f   -38\n",
       "n    22\n",
       "p   -34\n",
       "e   -32\n",
       "i    -5\n",
       "y   -42\n",
       "q     6\n",
       "u   -37\n",
       "g    32\n",
       "z    40\n",
       "c     2\n",
       "b     7\n",
       "a    42\n",
       "w   -48\n",
       "s   -38\n",
       "k    20\n",
       "j   -34\n",
       "dtype: int64"
      ]
     },
     "execution_count": 22,
     "metadata": {},
     "output_type": "execute_result"
    }
   ],
   "source": [
    "letters"
   ]
  },
  {
   "cell_type": "code",
   "execution_count": 24,
   "metadata": {},
   "outputs": [
    {
     "data": {
      "text/plain": [
       "d    42\n",
       "l   -20\n",
       "f   -38\n",
       "n    22\n",
       "p   -34\n",
       "e   -32\n",
       "dtype: int64"
      ]
     },
     "execution_count": 24,
     "metadata": {},
     "output_type": "execute_result"
    }
   ],
   "source": [
    "letters['d':'e']"
   ]
  },
  {
   "cell_type": "code",
   "execution_count": null,
   "metadata": {},
   "outputs": [],
   "source": []
  }
 ],
 "metadata": {
  "kernelspec": {
   "display_name": "Python 3",
   "language": "python",
   "name": "python3"
  },
  "language_info": {
   "codemirror_mode": {
    "name": "ipython",
    "version": 3
   },
   "file_extension": ".py",
   "mimetype": "text/x-python",
   "name": "python",
   "nbconvert_exporter": "python",
   "pygments_lexer": "ipython3",
   "version": "3.8.3"
  }
 },
 "nbformat": 4,
 "nbformat_minor": 4
}
