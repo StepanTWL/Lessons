{
 "cells": [
  {
   "cell_type": "code",
   "execution_count": 7,
   "metadata": {},
   "outputs": [],
   "source": [
    "import pandas as pd\n",
    "from random import randint\n",
    "from faker import Faker\n",
    "fake = Faker()"
   ]
  },
  {
   "cell_type": "code",
   "execution_count": 2,
   "metadata": {},
   "outputs": [],
   "source": [
    "numbers = [randint(-50,50) for i in range(15)]"
   ]
  },
  {
   "cell_type": "code",
   "execution_count": 3,
   "metadata": {},
   "outputs": [],
   "source": [
    "s = pd.Series(numbers)"
   ]
  },
  {
   "cell_type": "code",
   "execution_count": 4,
   "metadata": {},
   "outputs": [
    {
     "data": {
      "text/plain": [
       "0     14\n",
       "1    -22\n",
       "2     34\n",
       "3     10\n",
       "4     50\n",
       "5     22\n",
       "6    -20\n",
       "7    -13\n",
       "8     32\n",
       "9    -27\n",
       "10    -9\n",
       "11    23\n",
       "12    -4\n",
       "13    41\n",
       "14     6\n",
       "dtype: int64"
      ]
     },
     "execution_count": 4,
     "metadata": {},
     "output_type": "execute_result"
    }
   ],
   "source": [
    "s"
   ]
  },
  {
   "cell_type": "markdown",
   "metadata": {},
   "source": [
    "#inplace позволяет сохранить сортировку в туже переменную (в отличии от s=s когда меняется память переменной s)"
   ]
  },
  {
   "cell_type": "code",
   "execution_count": 5,
   "metadata": {
    "scrolled": false
   },
   "outputs": [
    {
     "data": {
      "text/plain": [
       "9    -27\n",
       "1    -22\n",
       "6    -20\n",
       "7    -13\n",
       "10    -9\n",
       "12    -4\n",
       "14     6\n",
       "3     10\n",
       "0     14\n",
       "5     22\n",
       "11    23\n",
       "8     32\n",
       "2     34\n",
       "13    41\n",
       "4     50\n",
       "dtype: int64"
      ]
     },
     "execution_count": 5,
     "metadata": {},
     "output_type": "execute_result"
    }
   ],
   "source": [
    "s.sort_values(inplace = True)"
   ]
  },
  {
   "cell_type": "code",
   "execution_count": 6,
   "metadata": {},
   "outputs": [
    {
     "data": {
      "text/plain": [
       "4     50\n",
       "13    41\n",
       "2     34\n",
       "8     32\n",
       "11    23\n",
       "5     22\n",
       "0     14\n",
       "3     10\n",
       "14     6\n",
       "12    -4\n",
       "10    -9\n",
       "7    -13\n",
       "6    -20\n",
       "1    -22\n",
       "9    -27\n",
       "dtype: int64"
      ]
     },
     "execution_count": 6,
     "metadata": {},
     "output_type": "execute_result"
    }
   ],
   "source": [
    "s.sort_values(ascending = False) #обратная сортировка"
   ]
  },
  {
   "cell_type": "code",
   "execution_count": 8,
   "metadata": {},
   "outputs": [
    {
     "data": {
      "text/plain": [
       "'James Chapman'"
      ]
     },
     "execution_count": 8,
     "metadata": {},
     "output_type": "execute_result"
    }
   ],
   "source": [
    "fake.name()"
   ]
  },
  {
   "cell_type": "code",
   "execution_count": 9,
   "metadata": {},
   "outputs": [],
   "source": [
    "names = [fake.name() for i in range(15)]"
   ]
  },
  {
   "cell_type": "code",
   "execution_count": 10,
   "metadata": {},
   "outputs": [
    {
     "data": {
      "text/plain": [
       "['Raymond Alvarado',\n",
       " 'Abigail Hurst',\n",
       " 'Erin Arroyo',\n",
       " 'Craig Dudley',\n",
       " 'Robert Washington',\n",
       " 'Tony Oliver',\n",
       " 'Joseph Hill',\n",
       " 'Dawn Bartlett',\n",
       " 'Robert Wagner',\n",
       " 'Michael Mcmillan',\n",
       " 'Andrew Johnson',\n",
       " 'Patricia Ritter',\n",
       " 'Kristen Stone',\n",
       " 'Theresa Crawford DDS',\n",
       " 'Timothy Barker']"
      ]
     },
     "execution_count": 10,
     "metadata": {},
     "output_type": "execute_result"
    }
   ],
   "source": [
    "names"
   ]
  },
  {
   "cell_type": "code",
   "execution_count": 11,
   "metadata": {},
   "outputs": [],
   "source": [
    "n = pd.Series(names)"
   ]
  },
  {
   "cell_type": "code",
   "execution_count": 12,
   "metadata": {},
   "outputs": [
    {
     "data": {
      "text/plain": [
       "0         Raymond Alvarado\n",
       "1            Abigail Hurst\n",
       "2              Erin Arroyo\n",
       "3             Craig Dudley\n",
       "4        Robert Washington\n",
       "5              Tony Oliver\n",
       "6              Joseph Hill\n",
       "7            Dawn Bartlett\n",
       "8            Robert Wagner\n",
       "9         Michael Mcmillan\n",
       "10          Andrew Johnson\n",
       "11         Patricia Ritter\n",
       "12           Kristen Stone\n",
       "13    Theresa Crawford DDS\n",
       "14          Timothy Barker\n",
       "dtype: object"
      ]
     },
     "execution_count": 12,
     "metadata": {},
     "output_type": "execute_result"
    }
   ],
   "source": [
    "n"
   ]
  },
  {
   "cell_type": "code",
   "execution_count": 13,
   "metadata": {},
   "outputs": [],
   "source": [
    "n.sort_values(inplace = True)"
   ]
  },
  {
   "cell_type": "code",
   "execution_count": 14,
   "metadata": {},
   "outputs": [
    {
     "data": {
      "text/plain": [
       "1            Abigail Hurst\n",
       "10          Andrew Johnson\n",
       "3             Craig Dudley\n",
       "7            Dawn Bartlett\n",
       "2              Erin Arroyo\n",
       "6              Joseph Hill\n",
       "12           Kristen Stone\n",
       "9         Michael Mcmillan\n",
       "11         Patricia Ritter\n",
       "0         Raymond Alvarado\n",
       "8            Robert Wagner\n",
       "4        Robert Washington\n",
       "13    Theresa Crawford DDS\n",
       "14          Timothy Barker\n",
       "5              Tony Oliver\n",
       "dtype: object"
      ]
     },
     "execution_count": 14,
     "metadata": {},
     "output_type": "execute_result"
    }
   ],
   "source": [
    "n"
   ]
  },
  {
   "cell_type": "code",
   "execution_count": null,
   "metadata": {},
   "outputs": [],
   "source": []
  }
 ],
 "metadata": {
  "kernelspec": {
   "display_name": "Python 3",
   "language": "python",
   "name": "python3"
  },
  "language_info": {
   "codemirror_mode": {
    "name": "ipython",
    "version": 3
   },
   "file_extension": ".py",
   "mimetype": "text/x-python",
   "name": "python",
   "nbconvert_exporter": "python",
   "pygments_lexer": "ipython3",
   "version": "3.8.3"
  }
 },
 "nbformat": 4,
 "nbformat_minor": 4
}
